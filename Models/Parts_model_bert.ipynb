{
 "cells": [
  {
   "cell_type": "code",
   "execution_count": 12,
   "id": "59b96caf-3cf5-4c14-abd1-9e4e4551ed0c",
   "metadata": {},
   "outputs": [
    {
     "name": "stderr",
     "output_type": "stream",
     "text": [
      "[nltk_data] Downloading package punkt to\n",
      "[nltk_data]     C:\\Users\\Dinesh\\AppData\\Roaming\\nltk_data...\n",
      "[nltk_data]   Package punkt is already up-to-date!\n",
      "[nltk_data] Downloading package stopwords to\n",
      "[nltk_data]     C:\\Users\\Dinesh\\AppData\\Roaming\\nltk_data...\n",
      "[nltk_data]   Package stopwords is already up-to-date!\n",
      "[nltk_data] Downloading package wordnet to\n",
      "[nltk_data]     C:\\Users\\Dinesh\\AppData\\Roaming\\nltk_data...\n",
      "[nltk_data]   Package wordnet is already up-to-date!\n",
      "[nltk_data] Downloading package punkt_tab to\n",
      "[nltk_data]     C:\\Users\\Dinesh\\AppData\\Roaming\\nltk_data...\n",
      "[nltk_data]   Package punkt_tab is already up-to-date!\n"
     ]
    }
   ],
   "source": [
    "import pandas as pd\n",
    "import numpy as np\n",
    "import string\n",
    "import re\n",
    "import nltk\n",
    "import torch\n",
    "from tqdm import tqdm\n",
    "\n",
    "from nltk.corpus import stopwords\n",
    "from nltk.tokenize import word_tokenize\n",
    "from nltk.stem import WordNetLemmatizer\n",
    "\n",
    "from sklearn.model_selection import train_test_split\n",
    "from sklearn.linear_model import LogisticRegression\n",
    "from sklearn.metrics import accuracy_score, classification_report\n",
    "from sklearn.preprocessing import LabelEncoder\n",
    "\n",
    "from sklearn.feature_extraction.text import TfidfVectorizer\n",
    "\n",
    "from transformers import DistilBertTokenizer, DistilBertModel\n",
    "\n",
    "# Downloads\n",
    "nltk.download('punkt')\n",
    "nltk.download('stopwords')\n",
    "nltk.download('wordnet')\n",
    "\n",
    "import nltk\n",
    "nltk.download('punkt_tab')\n",
    "import warnings\n",
    "warnings.filterwarnings('ignore')"
   ]
  },
  {
   "cell_type": "code",
   "execution_count": 3,
   "id": "c682441a-d3b1-46bd-b39e-36d7cb237812",
   "metadata": {},
   "outputs": [],
   "source": [
    "def preprocess_text(text):\n",
    "    text = text.lower()\n",
    "    text = re.sub(r'\\d+', '', text)\n",
    "    text = text.translate(str.maketrans('', '', string.punctuation))\n",
    "    tokens = word_tokenize(text)\n",
    "    stop_words = set(stopwords.words('english'))\n",
    "    tokens = [word for word in tokens if word not in stop_words]\n",
    "    lemmatizer = WordNetLemmatizer()\n",
    "    tokens = [lemmatizer.lemmatize(token) for token in tokens]\n",
    "    return ' '.join(tokens)\n",
    "\n",
    "def basic_clean(text):\n",
    "    return re.sub(r'\\s+', ' ', text).strip()\n"
   ]
  },
  {
   "cell_type": "code",
   "execution_count": 4,
   "id": "9da088b3-2384-4347-a925-43c51fb2bb9c",
   "metadata": {},
   "outputs": [],
   "source": [
    "def get_bert_embeddings(texts, tokenizer, model, batch_size=16):\n",
    "    model.eval()\n",
    "    embeddings = []\n",
    "    for i in tqdm(range(0, len(texts), batch_size)):\n",
    "        batch = texts[i:i+batch_size]\n",
    "        encodings = tokenizer(batch, padding=True, truncation=True, return_tensors=\"pt\", max_length=128)\n",
    "        input_ids = encodings['input_ids'].to(device)\n",
    "        attention_mask = encodings['attention_mask'].to(device)\n",
    "\n",
    "        with torch.no_grad():\n",
    "            outputs = model(input_ids, attention_mask=attention_mask)\n",
    "            cls_embed = outputs.last_hidden_state[:, 0, :]\n",
    "            embeddings.append(cls_embed.cpu().numpy())\n",
    "\n",
    "    return np.vstack(embeddings)\n"
   ]
  },
  {
   "cell_type": "code",
   "execution_count": 16,
   "id": "155f2f34-14c2-41d2-959b-e00fd00c8565",
   "metadata": {},
   "outputs": [
    {
     "name": "stderr",
     "output_type": "stream",
     "text": [
      "\n",
      "00%|██████████████████████████████████████████████████████████████████████████████████| 45/45 [00:06<00:00,  7.12it/s]"
     ]
    }
   ],
   "source": [
    "input_labelled = pd.read_csv('C:/Users/Dinesh/Git_Hub/HostelFix-AI/data/data_input.csv')\n",
    "input0 = pd.DataFrame(input_labelled)\n",
    "df = input0\n",
    "\n",
    "# === Choose target column ===\n",
    "target_col = 'repair_person'  # Change to 'needs_spare_parts' or 'priority' as needed\n",
    "\n",
    "# === Prepare labels ===\n",
    "le = LabelEncoder()\n",
    "y = le.fit_transform(df[target_col])\n",
    "\n",
    "# === BERT pipeline ===\n",
    "df['bert_text'] = df['complaint'].apply(basic_clean)\n",
    "device = torch.device(\"cuda\" if torch.cuda.is_available() else \"cpu\")\n",
    "tokenizer = DistilBertTokenizer.from_pretrained(\"distilbert-base-uncased\")\n",
    "model = DistilBertModel.from_pretrained(\"distilbert-base-uncased\").to(device)\n",
    "X_bert = get_bert_embeddings(df['bert_text'].tolist(), tokenizer, model)\n",
    "X_train_bert, X_test_bert, y_train_bert, y_test = train_test_split(X_bert, y, test_size=0.2, stratify=y, random_state=78)\n",
    "clf_bert = LogisticRegression(max_iter=1000)\n",
    "clf_bert.fit(X_train_bert, y_train_bert)\n",
    "y_pred_bert = clf_bert.predict(X_test_bert)\n"
   ]
  },
  {
   "cell_type": "code",
   "execution_count": 17,
   "id": "142b7ec2-6e96-4787-af88-e17d3ed08010",
   "metadata": {},
   "outputs": [
    {
     "name": "stdout",
     "output_type": "stream",
     "text": [
      "\n",
      "=== DistilBERT Results ===\n",
      "Accuracy: 0.7430555555555556\n",
      "                        precision    recall  f1-score   support\n",
      "\n",
      "               No need       0.00      0.00      0.00         3\n",
      "                Others       0.56      0.61      0.58        23\n",
      "      Yes, A carpenter       0.62      0.62      0.62        16\n",
      "        Yes, A plumber       0.77      0.83      0.80        36\n",
      "Yes, A wifi Technician       1.00      0.87      0.93        15\n",
      "   Yes, An electrician       0.82      0.78      0.80        51\n",
      "\n",
      "              accuracy                           0.74       144\n",
      "             macro avg       0.63      0.62      0.62       144\n",
      "          weighted avg       0.74      0.74      0.74       144\n",
      "\n"
     ]
    }
   ],
   "source": [
    "print(\"\\n=== DistilBERT Results ===\")\n",
    "print(\"Accuracy:\", accuracy_score(y_test, y_pred_bert))\n",
    "print(classification_report(y_test, y_pred_bert, target_names=le.classes_))"
   ]
  },
  {
   "cell_type": "code",
   "execution_count": null,
   "id": "2ef964d9-5777-4720-8b20-452530a32207",
   "metadata": {},
   "outputs": [],
   "source": []
  }
 ],
 "metadata": {
  "kernelspec": {
   "display_name": "Python 3 (ipykernel)",
   "language": "python",
   "name": "python3"
  },
  "language_info": {
   "codemirror_mode": {
    "name": "ipython",
    "version": 3
   },
   "file_extension": ".py",
   "mimetype": "text/x-python",
   "name": "python",
   "nbconvert_exporter": "python",
   "pygments_lexer": "ipython3",
   "version": "3.13.2"
  }
 },
 "nbformat": 4,
 "nbformat_minor": 5
}
