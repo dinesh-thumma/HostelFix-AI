{
 "cells": [
  {
   "cell_type": "code",
   "execution_count": 1,
   "id": "59815a8d-42da-4b65-a447-29057668d700",
   "metadata": {},
   "outputs": [],
   "source": [
    "import pandas as pd\n",
    "import numpy as np\n",
    "from datasets import Dataset\n",
    "from sklearn.preprocessing import LabelEncoder\n",
    "import transformers\n",
    "from transformers import DistilBertTokenizerFast, DistilBertForSequenceClassification, Trainer, TrainingArguments\n",
    "import torch\n",
    "from sklearn.metrics import accuracy_score, precision_recall_fscore_support"
   ]
  },
  {
   "cell_type": "code",
   "execution_count": 33,
   "id": "df03506d-dc71-4d58-ad19-a8d6afab874e",
   "metadata": {},
   "outputs": [],
   "source": [
    "import matplotlib.pyplot as plt\n",
    "import seaborn as sns "
   ]
  },
  {
   "cell_type": "code",
   "execution_count": 2,
   "id": "cbb56153-4210-4dbb-96e3-4279e3e1fc5c",
   "metadata": {},
   "outputs": [
    {
     "name": "stdout",
     "output_type": "stream",
     "text": [
      "<class 'pandas.core.frame.DataFrame'>\n",
      "RangeIndex: 1382 entries, 0 to 1381\n",
      "Data columns (total 4 columns):\n",
      " #   Column         Non-Null Count  Dtype \n",
      "---  ------         --------------  ----- \n",
      " 0   complaint      1382 non-null   object\n",
      " 1   priority       1382 non-null   int64 \n",
      " 2   parts          1382 non-null   object\n",
      " 3   repair_person  1382 non-null   object\n",
      "dtypes: int64(1), object(3)\n",
      "memory usage: 43.3+ KB\n"
     ]
    }
   ],
   "source": [
    "input_labelled = pd.read_csv('C:/Users/Dinesh/Git_Hub/HostelFix-AI/data/data_input.csv')\n",
    "input0 = pd.DataFrame(input_labelled)\n",
    "df = input0\n",
    "df.info()"
   ]
  },
  {
   "cell_type": "code",
   "execution_count": 3,
   "id": "a57ba2e1-6b58-4700-b8ef-f223d2ce14bc",
   "metadata": {},
   "outputs": [],
   "source": [
    "target_col = 'priority'"
   ]
  },
  {
   "cell_type": "code",
   "execution_count": 4,
   "id": "4437e64e-4c7d-4a1f-b1ec-7aaec0605f9a",
   "metadata": {},
   "outputs": [],
   "source": [
    "le = LabelEncoder()\n",
    "df['label'] = le.fit_transform(df[target_col])\n",
    "num_labels = len(le.classes_)"
   ]
  },
  {
   "cell_type": "code",
   "execution_count": 5,
   "id": "74688a65-a9c4-42f4-9f48-515a68e6d925",
   "metadata": {},
   "outputs": [],
   "source": [
    "from sklearn.model_selection import train_test_split\n",
    "train_texts, test_texts, train_labels, test_labels = train_test_split(\n",
    "    df['complaint'].tolist(), df['label'].tolist(), \n",
    "    test_size=0.2, stratify=df['label'], random_state=42\n",
    ")"
   ]
  },
  {
   "cell_type": "code",
   "execution_count": 6,
   "id": "5f71c63c-3379-410c-aec7-62655af97a1b",
   "metadata": {},
   "outputs": [],
   "source": [
    "tokenizer = DistilBertTokenizerFast.from_pretrained('distilbert-base-uncased')\n",
    "\n",
    "train_encodings = tokenizer(train_texts, truncation=True, padding=True, max_length=128)\n",
    "test_encodings = tokenizer(test_texts, truncation=True, padding=True, max_length=128)\n"
   ]
  },
  {
   "cell_type": "code",
   "execution_count": 7,
   "id": "a2e4f0c9-12f8-4588-a134-2442e313cca2",
   "metadata": {},
   "outputs": [],
   "source": [
    "train_dataset = Dataset.from_dict({**train_encodings, 'label': train_labels})\n",
    "test_dataset = Dataset.from_dict({**test_encodings, 'label': test_labels})\n"
   ]
  },
  {
   "cell_type": "code",
   "execution_count": 8,
   "id": "74f041fc-54ab-4cd1-b57b-94a98ea5d6b4",
   "metadata": {},
   "outputs": [
    {
     "name": "stderr",
     "output_type": "stream",
     "text": [
      "Some weights of DistilBertForSequenceClassification were not initialized from the model checkpoint at distilbert-base-uncased and are newly initialized: ['classifier.bias', 'classifier.weight', 'pre_classifier.bias', 'pre_classifier.weight']\n",
      "You should probably TRAIN this model on a down-stream task to be able to use it for predictions and inference.\n"
     ]
    }
   ],
   "source": [
    "model = DistilBertForSequenceClassification.from_pretrained(\n",
    "    \"distilbert-base-uncased\", num_labels=num_labels\n",
    ")\n"
   ]
  },
  {
   "cell_type": "code",
   "execution_count": 9,
   "id": "8c5adf42-ce58-4e3a-9868-bc7f9db757ae",
   "metadata": {},
   "outputs": [],
   "source": [
    "def compute_metrics(pred):\n",
    "    labels = pred.label_ids\n",
    "    preds = np.argmax(pred.predictions, axis=1)\n",
    "    acc = accuracy_score(labels, preds)\n",
    "    p, r, f1, _ = precision_recall_fscore_support(labels, preds, average='weighted')\n",
    "    return {\n",
    "        'accuracy': acc,\n",
    "        'precision': p,\n",
    "        'recall': r,\n",
    "        'f1': f1\n",
    "    }"
   ]
  },
  {
   "cell_type": "code",
   "execution_count": 10,
   "id": "31c6aea0-b4d7-49ef-8e9b-e162fbcc5ca3",
   "metadata": {},
   "outputs": [],
   "source": [
    "# 5. Define training arguments\n",
    "training_args = TrainingArguments(\n",
    "    output_dir=\"./distilbert-hostel-priority\",  # directory to save the model\n",
    "    eval_strategy=\"epoch\",                # evaluate at the end of each epoch\n",
    "    learning_rate=2e-5,\n",
    "    per_device_train_batch_size=16,             # adjust based on your GPU or CPU availability\n",
    "    per_device_eval_batch_size=16,\n",
    "    num_train_epochs=5,                         # you might want to increase/decrease this\n",
    "    weight_decay=0.01,\n",
    "    logging_dir=\"./logs\",\n",
    "    logging_steps=10,\n",
    "    load_best_model_at_end=True,\n",
    "    metric_for_best_model=\"accuracy\",\n",
    "    save_strategy=\"epoch\",\n",
    ")"
   ]
  },
  {
   "cell_type": "code",
   "execution_count": 12,
   "id": "9b3cec5a-4b43-4c44-83e7-11a153c2a022",
   "metadata": {},
   "outputs": [],
   "source": [
    "import pandas as pd\n",
    "from sklearn.model_selection import train_test_split\n",
    "from datasets import Dataset\n",
    "\n",
    "import evaluate\n",
    "\n",
    "metric = evaluate.load(\"accuracy\")\n",
    "\n",
    "\n",
    "import numpy as np\n",
    "import torch\n",
    "\n",
    "from transformers import DistilBertTokenizerFast, DistilBertForSequenceClassification\n",
    "from transformers import Trainer, TrainingArguments, DataCollatorWithPadding"
   ]
  },
  {
   "cell_type": "code",
   "execution_count": 13,
   "id": "f36beaa2-68b4-4d91-b773-0c839eefdca3",
   "metadata": {},
   "outputs": [],
   "source": [
    "train_df, val_df = train_test_split(df, test_size=0.2, random_state=42, stratify=df['priority'])"
   ]
  },
  {
   "cell_type": "code",
   "execution_count": 14,
   "id": "eb0793dd-202f-4995-aad9-e56d8e9d9e6b",
   "metadata": {},
   "outputs": [],
   "source": [
    "train_dataset = Dataset.from_pandas(train_df)\n",
    "val_dataset = Dataset.from_pandas(val_df)\n",
    "\n",
    "# 3. Load the DistilBERT tokenizer\n",
    "tokenizer = DistilBertTokenizerFast.from_pretrained(\"distilbert-base-uncased\")\n",
    "\n",
    "# Define a tokenization function\n",
    "def tokenize_function(example):\n",
    "    return tokenizer(example[\"complaint\"], truncation=True)"
   ]
  },
  {
   "cell_type": "code",
   "execution_count": 15,
   "id": "c65d67d7-0acf-4d5c-8c83-9cc1d331e351",
   "metadata": {},
   "outputs": [
    {
     "data": {
      "application/vnd.jupyter.widget-view+json": {
       "model_id": "9a0e99e69d274d919feb3c45dd17d491",
       "version_major": 2,
       "version_minor": 0
      },
      "text/plain": [
       "Map:   0%|          | 0/1105 [00:00<?, ? examples/s]"
      ]
     },
     "metadata": {},
     "output_type": "display_data"
    },
    {
     "data": {
      "application/vnd.jupyter.widget-view+json": {
       "model_id": "7d659297ecc545e9be05c4caa2d3341f",
       "version_major": 2,
       "version_minor": 0
      },
      "text/plain": [
       "Map:   0%|          | 0/277 [00:00<?, ? examples/s]"
      ]
     },
     "metadata": {},
     "output_type": "display_data"
    }
   ],
   "source": [
    "train_dataset = train_dataset.map(tokenize_function, batched=True)\n",
    "val_dataset = val_dataset.map(tokenize_function, batched=True)\n",
    "\n",
    "# Remove columns that we don't need (like the raw text)\n",
    "train_dataset = train_dataset.remove_columns([\"complaint\", \"__index_level_0__\"]) if \"__index_level_0__\" in train_dataset.column_names else train_dataset.remove_columns([\"complaint\"])\n",
    "val_dataset = val_dataset.remove_columns([\"complaint\", \"__index_level_0__\"]) if \"__index_level_0__\" in val_dataset.column_names else val_dataset.remove_columns([\"complaint\"])"
   ]
  },
  {
   "cell_type": "code",
   "execution_count": 16,
   "id": "e3eeacae-2860-4077-aafc-02e73a069a23",
   "metadata": {},
   "outputs": [
    {
     "name": "stderr",
     "output_type": "stream",
     "text": [
      "Some weights of DistilBertForSequenceClassification were not initialized from the model checkpoint at distilbert-base-uncased and are newly initialized: ['classifier.bias', 'classifier.weight', 'pre_classifier.bias', 'pre_classifier.weight']\n",
      "You should probably TRAIN this model on a down-stream task to be able to use it for predictions and inference.\n"
     ]
    }
   ],
   "source": [
    "# Set the format of the datasets to PyTorch tensors\n",
    "train_dataset.set_format(\"torch\")\n",
    "val_dataset.set_format(\"torch\")\n",
    "\n",
    "# Determine the number of labels. For example, if there are 3 priority levels:\n",
    "num_labels = len(df['priority'].unique())\n",
    "if df['priority'].min() == 1:\n",
    "    num_labels += 1\n",
    "\n",
    "# 4. Load the DistilBERT pre-trained model for sequence classification\n",
    "model = DistilBertForSequenceClassification.from_pretrained(\"distilbert-base-uncased\", num_labels=num_labels)"
   ]
  },
  {
   "cell_type": "code",
   "execution_count": 18,
   "id": "7345e310-d291-40c8-804d-2cec05da6b88",
   "metadata": {},
   "outputs": [],
   "source": [
    "# 5. Define training arguments\n",
    "training_args = TrainingArguments(\n",
    "    output_dir=\"./distilbert-hostel-priority\",  # directory to save the model\n",
    "    eval_strategy=\"epoch\",                # evaluate at the end of each epoch\n",
    "    learning_rate=2e-5,\n",
    "    per_device_train_batch_size=16,             # adjust based on your GPU or CPU availability\n",
    "    per_device_eval_batch_size=16,\n",
    "    num_train_epochs=5,                         # you might want to increase/decrease this\n",
    "    weight_decay=0.01,\n",
    "    logging_dir=\"./logs\",\n",
    "    logging_steps=10,\n",
    "    load_best_model_at_end=True,\n",
    "    metric_for_best_model=\"accuracy\",\n",
    "    save_strategy=\"epoch\",\n",
    ")"
   ]
  },
  {
   "cell_type": "code",
   "execution_count": 19,
   "id": "bd8f0be1-5cc9-43d9-95bb-f15720055b64",
   "metadata": {},
   "outputs": [
    {
     "name": "stderr",
     "output_type": "stream",
     "text": [
      "C:\\Users\\Dinesh\\AppData\\Local\\Temp\\ipykernel_19072\\2388959174.py:1: FutureWarning: `tokenizer` is deprecated and will be removed in version 5.0.0 for `Trainer.__init__`. Use `processing_class` instead.\n",
      "  trainer = Trainer(\n"
     ]
    }
   ],
   "source": [
    "trainer = Trainer(\n",
    "    model=model,\n",
    "    args=training_args,\n",
    "    train_dataset=train_dataset,\n",
    "    eval_dataset=test_dataset,\n",
    "    tokenizer=tokenizer,\n",
    "    compute_metrics=compute_metrics\n",
    ")"
   ]
  },
  {
   "cell_type": "code",
   "execution_count": 20,
   "id": "5bc30f62-8c9f-4620-899b-21da21d89d62",
   "metadata": {},
   "outputs": [
    {
     "data": {
      "text/html": [
       "\n",
       "    <div>\n",
       "      \n",
       "      <progress value='350' max='350' style='width:300px; height:20px; vertical-align: middle;'></progress>\n",
       "      [350/350 04:53, Epoch 5/5]\n",
       "    </div>\n",
       "    <table border=\"1\" class=\"dataframe\">\n",
       "  <thead>\n",
       " <tr style=\"text-align: left;\">\n",
       "      <th>Epoch</th>\n",
       "      <th>Training Loss</th>\n",
       "      <th>Validation Loss</th>\n",
       "      <th>Accuracy</th>\n",
       "      <th>Precision</th>\n",
       "      <th>Recall</th>\n",
       "      <th>F1</th>\n",
       "    </tr>\n",
       "  </thead>\n",
       "  <tbody>\n",
       "    <tr>\n",
       "      <td>1</td>\n",
       "      <td>1.264400</td>\n",
       "      <td>1.246587</td>\n",
       "      <td>0.530686</td>\n",
       "      <td>0.639639</td>\n",
       "      <td>0.530686</td>\n",
       "      <td>0.466508</td>\n",
       "    </tr>\n",
       "    <tr>\n",
       "      <td>2</td>\n",
       "      <td>1.019600</td>\n",
       "      <td>0.992113</td>\n",
       "      <td>0.606498</td>\n",
       "      <td>0.586787</td>\n",
       "      <td>0.606498</td>\n",
       "      <td>0.584141</td>\n",
       "    </tr>\n",
       "    <tr>\n",
       "      <td>3</td>\n",
       "      <td>0.699700</td>\n",
       "      <td>0.939615</td>\n",
       "      <td>0.613718</td>\n",
       "      <td>0.606920</td>\n",
       "      <td>0.613718</td>\n",
       "      <td>0.571588</td>\n",
       "    </tr>\n",
       "    <tr>\n",
       "      <td>4</td>\n",
       "      <td>0.624300</td>\n",
       "      <td>0.870588</td>\n",
       "      <td>0.631769</td>\n",
       "      <td>0.623955</td>\n",
       "      <td>0.631769</td>\n",
       "      <td>0.623645</td>\n",
       "    </tr>\n",
       "    <tr>\n",
       "      <td>5</td>\n",
       "      <td>0.659900</td>\n",
       "      <td>0.849809</td>\n",
       "      <td>0.649819</td>\n",
       "      <td>0.636313</td>\n",
       "      <td>0.649819</td>\n",
       "      <td>0.638140</td>\n",
       "    </tr>\n",
       "  </tbody>\n",
       "</table><p>"
      ],
      "text/plain": [
       "<IPython.core.display.HTML object>"
      ]
     },
     "metadata": {},
     "output_type": "display_data"
    },
    {
     "data": {
      "text/plain": [
       "TrainOutput(global_step=350, training_loss=0.9712862941196987, metrics={'train_runtime': 295.5152, 'train_samples_per_second': 18.696, 'train_steps_per_second': 1.184, 'total_flos': 29413223954388.0, 'train_loss': 0.9712862941196987, 'epoch': 5.0})"
      ]
     },
     "execution_count": 20,
     "metadata": {},
     "output_type": "execute_result"
    }
   ],
   "source": [
    "trainer.train()"
   ]
  },
  {
   "cell_type": "code",
   "execution_count": 21,
   "id": "4df55e36-537a-4764-860a-0c3d37535904",
   "metadata": {},
   "outputs": [
    {
     "data": {
      "text/html": [
       "\n",
       "    <div>\n",
       "      \n",
       "      <progress value='18' max='18' style='width:300px; height:20px; vertical-align: middle;'></progress>\n",
       "      [18/18 00:04]\n",
       "    </div>\n",
       "    "
      ],
      "text/plain": [
       "<IPython.core.display.HTML object>"
      ]
     },
     "metadata": {},
     "output_type": "display_data"
    },
    {
     "name": "stdout",
     "output_type": "stream",
     "text": [
      "📊 Final Evaluation: {'eval_loss': 0.8498092889785767, 'eval_accuracy': 0.6498194945848376, 'eval_precision': 0.6363134564076863, 'eval_recall': 0.6498194945848376, 'eval_f1': 0.6381403555746654, 'eval_runtime': 4.7387, 'eval_samples_per_second': 58.455, 'eval_steps_per_second': 3.799, 'epoch': 5.0}\n"
     ]
    }
   ],
   "source": [
    "eval_result = trainer.evaluate()\n",
    "print(\"📊 Final Evaluation:\", eval_result)"
   ]
  },
  {
   "cell_type": "code",
   "execution_count": null,
   "id": "79d13acc-5a1c-431b-aab5-08ceb4bc58ce",
   "metadata": {},
   "outputs": [],
   "source": []
  },
  {
   "cell_type": "code",
   "execution_count": null,
   "id": "e5d4bbea-5685-404c-a1bc-327ae92c6503",
   "metadata": {},
   "outputs": [],
   "source": []
  },
  {
   "cell_type": "code",
   "execution_count": null,
   "id": "daf989ec-7340-4ceb-9c15-cb6ecaa18917",
   "metadata": {},
   "outputs": [],
   "source": []
  },
  {
   "cell_type": "code",
   "execution_count": 24,
   "id": "2100eae4-54d7-4d51-b9b3-58e8adf5cfc3",
   "metadata": {},
   "outputs": [
    {
     "name": "stderr",
     "output_type": "stream",
     "text": [
      "Some weights of DistilBertForSequenceClassification were not initialized from the model checkpoint at distilbert-base-uncased and are newly initialized: ['classifier.bias', 'classifier.weight', 'pre_classifier.bias', 'pre_classifier.weight']\n",
      "You should probably TRAIN this model on a down-stream task to be able to use it for predictions and inference.\n"
     ]
    }
   ],
   "source": [
    "# ==== Preprocessing for Priority Prediction ====\n",
    "target_col = 'priority'\n",
    "df = df[df[target_col].notnull()]  # Drop NaNs if any\n",
    "\n",
    "# Assuming priority values are from 1 to 5 → convert to 0 to 4 for training\n",
    "df['label'] = df[target_col] - 1\n",
    "num_labels = df['label'].nunique()\n",
    "\n",
    "# ==== Train-Test Split ====\n",
    "train_texts, test_texts, train_labels, test_labels = train_test_split(\n",
    "    df['complaint'].tolist(),\n",
    "    df['label'].tolist(),\n",
    "    test_size=0.2,\n",
    "    stratify=df['label'],\n",
    "    random_state=42\n",
    ")\n",
    "\n",
    "# ==== Tokenization ====\n",
    "tokenizer = DistilBertTokenizerFast.from_pretrained('distilbert-base-uncased')\n",
    "train_encodings = tokenizer(train_texts, truncation=True, padding=True, max_length=128)\n",
    "test_encodings = tokenizer(test_texts, truncation=True, padding=True, max_length=128)\n",
    "\n",
    "# ==== Convert to HuggingFace Datasets ====\n",
    "train_dataset = Dataset.from_dict({**train_encodings, 'label': train_labels})\n",
    "test_dataset = Dataset.from_dict({**test_encodings, 'label': test_labels})\n",
    "\n",
    "# ==== Load Pretrained Model ====\n",
    "model = DistilBertForSequenceClassification.from_pretrained(\n",
    "    \"distilbert-base-uncased\",\n",
    "    num_labels=num_labels\n",
    ")\n",
    "\n",
    "# ==== Define Metrics ====\n",
    "def compute_metrics(pred):\n",
    "    labels = pred.label_ids\n",
    "    preds = np.argmax(pred.predictions, axis=1)\n",
    "    acc = accuracy_score(labels, preds)\n",
    "    p, r, f1, _ = precision_recall_fscore_support(labels, preds, average='weighted')\n",
    "    return {\n",
    "        'accuracy': acc,\n",
    "        'precision': p,\n",
    "        'recall': r,\n",
    "        'f1': f1\n",
    "    }\n",
    "\n",
    "# ==== Training Arguments ====\n",
    "training_args = TrainingArguments(\n",
    "    output_dir='./priority_model',\n",
    "    eval_strategy=\"epoch\",\n",
    "    save_strategy=\"epoch\",\n",
    "    num_train_epochs=10,\n",
    "    per_device_train_batch_size=16,\n",
    "    per_device_eval_batch_size=16,\n",
    "    learning_rate=2e-5,\n",
    "    weight_decay=0.01,\n",
    "    logging_dir='./logs',\n",
    "    load_best_model_at_end=True,\n",
    "    metric_for_best_model='f1',\n",
    "    save_total_limit=2\n",
    ")"
   ]
  },
  {
   "cell_type": "code",
   "execution_count": 26,
   "id": "530a1c7c-cd5e-452b-aa79-3455f6e2c8b0",
   "metadata": {},
   "outputs": [],
   "source": [
    "from transformers import EarlyStoppingCallback"
   ]
  },
  {
   "cell_type": "code",
   "execution_count": 28,
   "id": "761259df-3efc-4cba-813f-310841636e03",
   "metadata": {
    "scrolled": true
   },
   "outputs": [
    {
     "name": "stderr",
     "output_type": "stream",
     "text": [
      "C:\\Users\\Dinesh\\AppData\\Local\\Temp\\ipykernel_19072\\2043399310.py:5: FutureWarning: `tokenizer` is deprecated and will be removed in version 5.0.0 for `Trainer.__init__`. Use `processing_class` instead.\n",
      "  trainer = Trainer(\n"
     ]
    }
   ],
   "source": [
    "# ==== Add Early Stopping Callback ====\n",
    "early_stop_callback = EarlyStoppingCallback(early_stopping_patience=2)\n",
    "\n",
    "# ==== Trainer Setup ====\n",
    "trainer = Trainer(\n",
    "    model=model,\n",
    "    args=training_args,\n",
    "    train_dataset=train_dataset,\n",
    "    eval_dataset=test_dataset,\n",
    "    tokenizer=tokenizer,\n",
    "    compute_metrics=compute_metrics,\n",
    "    callbacks=[early_stop_callback]\n",
    ")\n"
   ]
  },
  {
   "cell_type": "code",
   "execution_count": 29,
   "id": "1bf21a17-5d0e-4741-aef8-d0b4ad933b3d",
   "metadata": {},
   "outputs": [
    {
     "data": {
      "text/html": [
       "\n",
       "    <div>\n",
       "      \n",
       "      <progress value='700' max='700' style='width:300px; height:20px; vertical-align: middle;'></progress>\n",
       "      [700/700 14:41, Epoch 10/10]\n",
       "    </div>\n",
       "    <table border=\"1\" class=\"dataframe\">\n",
       "  <thead>\n",
       " <tr style=\"text-align: left;\">\n",
       "      <th>Epoch</th>\n",
       "      <th>Training Loss</th>\n",
       "      <th>Validation Loss</th>\n",
       "      <th>Accuracy</th>\n",
       "      <th>Precision</th>\n",
       "      <th>Recall</th>\n",
       "      <th>F1</th>\n",
       "    </tr>\n",
       "  </thead>\n",
       "  <tbody>\n",
       "    <tr>\n",
       "      <td>1</td>\n",
       "      <td>No log</td>\n",
       "      <td>1.168388</td>\n",
       "      <td>0.563177</td>\n",
       "      <td>0.554233</td>\n",
       "      <td>0.563177</td>\n",
       "      <td>0.508003</td>\n",
       "    </tr>\n",
       "    <tr>\n",
       "      <td>2</td>\n",
       "      <td>No log</td>\n",
       "      <td>0.938317</td>\n",
       "      <td>0.631769</td>\n",
       "      <td>0.617104</td>\n",
       "      <td>0.631769</td>\n",
       "      <td>0.607171</td>\n",
       "    </tr>\n",
       "    <tr>\n",
       "      <td>3</td>\n",
       "      <td>No log</td>\n",
       "      <td>0.819936</td>\n",
       "      <td>0.678700</td>\n",
       "      <td>0.677116</td>\n",
       "      <td>0.678700</td>\n",
       "      <td>0.666413</td>\n",
       "    </tr>\n",
       "    <tr>\n",
       "      <td>4</td>\n",
       "      <td>No log</td>\n",
       "      <td>0.772063</td>\n",
       "      <td>0.682310</td>\n",
       "      <td>0.694920</td>\n",
       "      <td>0.682310</td>\n",
       "      <td>0.682377</td>\n",
       "    </tr>\n",
       "    <tr>\n",
       "      <td>5</td>\n",
       "      <td>No log</td>\n",
       "      <td>0.755525</td>\n",
       "      <td>0.718412</td>\n",
       "      <td>0.721890</td>\n",
       "      <td>0.718412</td>\n",
       "      <td>0.716501</td>\n",
       "    </tr>\n",
       "    <tr>\n",
       "      <td>6</td>\n",
       "      <td>No log</td>\n",
       "      <td>0.772610</td>\n",
       "      <td>0.729242</td>\n",
       "      <td>0.730504</td>\n",
       "      <td>0.729242</td>\n",
       "      <td>0.729375</td>\n",
       "    </tr>\n",
       "    <tr>\n",
       "      <td>7</td>\n",
       "      <td>No log</td>\n",
       "      <td>0.792177</td>\n",
       "      <td>0.729242</td>\n",
       "      <td>0.729378</td>\n",
       "      <td>0.729242</td>\n",
       "      <td>0.728782</td>\n",
       "    </tr>\n",
       "    <tr>\n",
       "      <td>8</td>\n",
       "      <td>0.667600</td>\n",
       "      <td>0.812514</td>\n",
       "      <td>0.743682</td>\n",
       "      <td>0.745918</td>\n",
       "      <td>0.743682</td>\n",
       "      <td>0.743350</td>\n",
       "    </tr>\n",
       "    <tr>\n",
       "      <td>9</td>\n",
       "      <td>0.667600</td>\n",
       "      <td>0.837147</td>\n",
       "      <td>0.732852</td>\n",
       "      <td>0.733092</td>\n",
       "      <td>0.732852</td>\n",
       "      <td>0.732411</td>\n",
       "    </tr>\n",
       "    <tr>\n",
       "      <td>10</td>\n",
       "      <td>0.667600</td>\n",
       "      <td>0.843497</td>\n",
       "      <td>0.729242</td>\n",
       "      <td>0.729044</td>\n",
       "      <td>0.729242</td>\n",
       "      <td>0.729045</td>\n",
       "    </tr>\n",
       "  </tbody>\n",
       "</table><p>"
      ],
      "text/plain": [
       "<IPython.core.display.HTML object>"
      ]
     },
     "metadata": {},
     "output_type": "display_data"
    },
    {
     "data": {
      "text/html": [],
      "text/plain": [
       "<IPython.core.display.HTML object>"
      ]
     },
     "metadata": {},
     "output_type": "display_data"
    },
    {
     "name": "stdout",
     "output_type": "stream",
     "text": [
      "📊 Final Evaluation on Test Set: {'eval_loss': 0.8125140070915222, 'eval_accuracy': 0.7436823104693141, 'eval_precision': 0.7459176427953012, 'eval_recall': 0.7436823104693141, 'eval_f1': 0.7433497021800272, 'eval_runtime': 4.6223, 'eval_samples_per_second': 59.927, 'eval_steps_per_second': 3.894, 'epoch': 10.0}\n"
     ]
    }
   ],
   "source": [
    "trainer.train()\n",
    "\n",
    "# ==== Evaluate ====\n",
    "results = trainer.evaluate()\n",
    "print(\"📊 Final Evaluation on Test Set:\", results)"
   ]
  },
  {
   "cell_type": "code",
   "execution_count": 34,
   "id": "2838c8f0-7bb8-4cfc-8673-62661204ff00",
   "metadata": {},
   "outputs": [
    {
     "data": {
      "text/html": [],
      "text/plain": [
       "<IPython.core.display.HTML object>"
      ]
     },
     "metadata": {},
     "output_type": "display_data"
    },
    {
     "name": "stderr",
     "output_type": "stream",
     "text": [
      "C:\\Users\\Dinesh\\AppData\\Local\\Programs\\Python\\Python313\\Lib\\site-packages\\IPython\\core\\pylabtools.py:170: UserWarning: Glyph 128202 (\\N{BAR CHART}) missing from font(s) DejaVu Sans.\n",
      "  fig.canvas.print_figure(bytes_io, **kw)\n"
     ]
    },
    {
     "data": {
      "image/png": "[encoded data removed]",
      "text/plain": [
       "<Figure size 800x600 with 2 Axes>"
      ]
     },
     "metadata": {},
     "output_type": "display_data"
    },
    {
     "name": "stdout",
     "output_type": "stream",
     "text": [
      "\n",
      "📝 Classification Report:\n",
      "              precision    recall  f1-score   support\n",
      "\n",
      "           1       0.77      0.75      0.76        55\n",
      "           2       0.64      0.74      0.69        58\n",
      "           3       0.70      0.60      0.65        53\n",
      "           4       0.80      0.79      0.79        56\n",
      "           5       0.82      0.84      0.83        55\n",
      "\n",
      "    accuracy                           0.74       277\n",
      "   macro avg       0.75      0.74      0.74       277\n",
      "weighted avg       0.75      0.74      0.74       277\n",
      "\n"
     ]
    }
   ],
   "source": [
    "from sklearn.metrics import confusion_matrix, classification_report\n",
    "\n",
    "# ==== Get predictions on the test set ====\n",
    "predictions = trainer.predict(test_dataset)\n",
    "y_true = predictions.label_ids\n",
    "y_pred = np.argmax(predictions.predictions, axis=1)\n",
    "\n",
    "# ==== Confusion Matrix ====\n",
    "cm = confusion_matrix(y_true, y_pred)\n",
    "class_names = [str(i+1) for i in range(num_labels)]  # Convert 0→\"1\", 1→\"2\", etc.\n",
    "\n",
    "plt.figure(figsize=(8, 6))\n",
    "sns.heatmap(cm, annot=True, fmt='d', cmap='Blues', xticklabels=class_names, yticklabels=class_names)\n",
    "plt.xlabel('Predicted Priority')\n",
    "plt.ylabel('Actual Priority')\n",
    "plt.title(' Confusion Matrix - Priority Prediction')\n",
    "plt.show()\n",
    "\n",
    "# ==== Optional: Print Classification Report ====\n",
    "print(\"\\n📝 Classification Report:\")\n",
    "print(classification_report(y_true, y_pred, target_names=class_names))"
   ]
  },
  {
   "cell_type": "code",
   "execution_count": 36,
   "id": "f2b26e4a-ab75-43fb-ae0d-9cdc11327ec0",
   "metadata": {},
   "outputs": [],
   "source": [
    "def predict_priority(text, model, tokenizer, label_shift=1):\n",
    "    model.eval()\n",
    "    \n",
    "    # Tokenize input\n",
    "    inputs = tokenizer(text, return_tensors=\"pt\", truncation=True, padding=True, max_length=128)\n",
    "    \n",
    "    with torch.no_grad():\n",
    "        outputs = model(**inputs)\n",
    "        logits = outputs.logits\n",
    "        predicted_class = torch.argmax(logits, dim=1).item()\n",
    "    \n",
    "    # Convert back to 1-5 scale (if you subtracted 1 earlier)\n",
    "    predicted_priority = predicted_class + label_shift\n",
    "    return predicted_priority\n"
   ]
  },
  {
   "cell_type": "code",
   "execution_count": 46,
   "id": "3f33e7e7-ced7-45bb-9a09-ba3d13a689a6",
   "metadata": {},
   "outputs": [
    {
     "name": "stdout",
     "output_type": "stream",
     "text": [
      "Predicted Priority: 5\n"
     ]
    }
   ],
   "source": [
    "custom_complaint = \"\"\n",
    "predicted = predict_priority(custom_complaint, model, tokenizer)\n",
    "print(f\"Predicted Priority: {predicted}\")"
   ]
  },
  {
   "cell_type": "code",
   "execution_count": null,
   "id": "87634b36-ee7e-4928-8bb9-ab9769fa357d",
   "metadata": {},
   "outputs": [],
   "source": []
  },
  {
   "cell_type": "code",
   "execution_count": null,
   "id": "af276a21-711a-4713-a488-da5293668b6e",
   "metadata": {},
   "outputs": [],
   "source": []
  }
 ],
 "metadata": {
  "kernelspec": {
   "display_name": "Python 3 (ipykernel)",
   "language": "python",
   "name": "python3"
  },
  "language_info": {
   "codemirror_mode": {
    "name": "ipython",
    "version": 3
   },
   "file_extension": ".py",
   "mimetype": "text/x-python",
   "name": "python",
   "nbconvert_exporter": "python",
   "pygments_lexer": "ipython3",
   "version": "3.10.0"
  }
 },
 "nbformat": 4,
 "nbformat_minor": 5
}
