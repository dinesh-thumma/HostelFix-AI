{
 "cells": [
  {
   "cell_type": "markdown",
   "id": "69f5946d-ef5a-4f5a-9f98-e4cce36b06de",
   "metadata": {},
   "source": [
    "# Importing all the Libraries"
   ]
  },
  {
   "cell_type": "markdown",
   "id": "f48a92ff-16f0-4126-868a-1eafb817cb85",
   "metadata": {},
   "source": [
    "### Core Libraries"
   ]
  },
  {
   "cell_type": "code",
   "execution_count": 2,
   "id": "843887d4-8fdd-441c-932e-2774abc56146",
   "metadata": {},
   "outputs": [],
   "source": [
    "import pandas as pd\n",
    "import numpy as np\n",
    "import matplotlib.pyplot as plt\n",
    "import seaborn as sns"
   ]
  },
  {
   "cell_type": "markdown",
   "id": "477479be-62b6-40f1-b8fd-f02e529e95aa",
   "metadata": {},
   "source": [
    "### NLP Libraries"
   ]
  },
  {
   "cell_type": "code",
   "execution_count": 53,
   "id": "0ffdb435-f9dd-4c01-ade0-49662c1855bf",
   "metadata": {},
   "outputs": [
    {
     "name": "stderr",
     "output_type": "stream",
     "text": [
      "[nltk_data] Downloading package punkt to\n",
      "[nltk_data]     C:\\Users\\Dinesh\\AppData\\Roaming\\nltk_data...\n",
      "[nltk_data]   Unzipping tokenizers\\punkt.zip.\n",
      "[nltk_data] Downloading package stopwords to\n",
      "[nltk_data]     C:\\Users\\Dinesh\\AppData\\Roaming\\nltk_data...\n",
      "[nltk_data]   Unzipping corpora\\stopwords.zip.\n",
      "[nltk_data] Downloading package wordnet to\n",
      "[nltk_data]     C:\\Users\\Dinesh\\AppData\\Roaming\\nltk_data...\n"
     ]
    },
    {
     "data": {
      "text/plain": [
       "True"
      ]
     },
     "execution_count": 53,
     "metadata": {},
     "output_type": "execute_result"
    }
   ],
   "source": [
    "import re\n",
    "import string\n",
    "import nltk\n",
    "from nltk.corpus import stopwords\n",
    "from nltk.tokenize import word_tokenize\n",
    "from nltk.stem import WordNetLemmatizer\n",
    "\n",
    "nltk.download('punkt')\n",
    "nltk.download('stopwords')\n",
    "nltk.download('wordnet')"
   ]
  },
  {
   "cell_type": "markdown",
   "id": "a45e2766-6a17-480f-85e9-564ec104f112",
   "metadata": {},
   "source": [
    "### Others"
   ]
  },
  {
   "cell_type": "code",
   "execution_count": 10,
   "id": "d223f682-7bd2-4472-930f-91aa91ef119c",
   "metadata": {},
   "outputs": [],
   "source": [
    "import warnings\n",
    "warnings.filterwarnings('ignore')"
   ]
  },
  {
   "cell_type": "markdown",
   "id": "14020f07-2297-4266-8573-684ba1c3f5b1",
   "metadata": {},
   "source": [
    "# Data Input"
   ]
  },
  {
   "cell_type": "code",
   "execution_count": 13,
   "id": "92a2524a-80f8-438d-b1e5-4da27b7cbc21",
   "metadata": {},
   "outputs": [
    {
     "name": "stdout",
     "output_type": "stream",
     "text": [
      "<class 'pandas.core.frame.DataFrame'>\n",
      "RangeIndex: 562 entries, 0 to 561\n",
      "Data columns (total 4 columns):\n",
      " #   Column         Non-Null Count  Dtype \n",
      "---  ------         --------------  ----- \n",
      " 0   complaint      562 non-null    object\n",
      " 1   priority       562 non-null    int64 \n",
      " 2   parts          562 non-null    object\n",
      " 3   repair_person  562 non-null    object\n",
      "dtypes: int64(1), object(3)\n",
      "memory usage: 17.7+ KB\n"
     ]
    }
   ],
   "source": [
    "input_labelled = pd.read_csv('C:/Users/Dinesh/Git_Hub/HostelFix-AI/data/data_input.csv')\n",
    "input0 = pd.DataFrame(input_labelled)\n",
    "df0 = input0\n",
    "df0.info()"
   ]
  },
  {
   "cell_type": "code",
   "execution_count": 21,
   "id": "937cf3e3-0c18-4223-ba4b-7b91b4472553",
   "metadata": {},
   "outputs": [
    {
     "data": {
      "text/html": [
       "<div>\n",
       "<style scoped>\n",
       "    .dataframe tbody tr th:only-of-type {\n",
       "        vertical-align: middle;\n",
       "    }\n",
       "\n",
       "    .dataframe tbody tr th {\n",
       "        vertical-align: top;\n",
       "    }\n",
       "\n",
       "    .dataframe thead th {\n",
       "        text-align: right;\n",
       "    }\n",
       "</style>\n",
       "<table border=\"1\" class=\"dataframe\">\n",
       "  <thead>\n",
       "    <tr style=\"text-align: right;\">\n",
       "      <th></th>\n",
       "      <th>complaint</th>\n",
       "      <th>priority</th>\n",
       "      <th>parts</th>\n",
       "      <th>repair_person</th>\n",
       "    </tr>\n",
       "  </thead>\n",
       "  <tbody>\n",
       "    <tr>\n",
       "      <th>0</th>\n",
       "      <td>Mirror is broken in the second floor east side...</td>\n",
       "      <td>1</td>\n",
       "      <td>Yes</td>\n",
       "      <td>Others</td>\n",
       "    </tr>\n",
       "    <tr>\n",
       "      <th>1</th>\n",
       "      <td>Light is not working</td>\n",
       "      <td>4</td>\n",
       "      <td>Yes</td>\n",
       "      <td>Yes, An electrician</td>\n",
       "    </tr>\n",
       "    <tr>\n",
       "      <th>2</th>\n",
       "      <td>Leaky pipes under sinks on floor 5</td>\n",
       "      <td>3</td>\n",
       "      <td>Yes</td>\n",
       "      <td>Yes, A plumber</td>\n",
       "    </tr>\n",
       "    <tr>\n",
       "      <th>3</th>\n",
       "      <td>wall hook for clothes needs to be fixed</td>\n",
       "      <td>2</td>\n",
       "      <td>No</td>\n",
       "      <td>Yes, A carpenter</td>\n",
       "    </tr>\n",
       "    <tr>\n",
       "      <th>4</th>\n",
       "      <td>WiFi drops out frequently, disrupting online work</td>\n",
       "      <td>3</td>\n",
       "      <td>No</td>\n",
       "      <td>Yes, A wifi Technician</td>\n",
       "    </tr>\n",
       "    <tr>\n",
       "      <th>5</th>\n",
       "      <td>AC is not working in common room 2, GarnetB</td>\n",
       "      <td>3</td>\n",
       "      <td>No</td>\n",
       "      <td>Yes, An electrician</td>\n",
       "    </tr>\n",
       "    <tr>\n",
       "      <th>6</th>\n",
       "      <td>Wifi occasionally stops working completely in ...</td>\n",
       "      <td>3</td>\n",
       "      <td>No</td>\n",
       "      <td>Yes, A wifi Technician</td>\n",
       "    </tr>\n",
       "    <tr>\n",
       "      <th>7</th>\n",
       "      <td>Water cooler is not working in 1st floor</td>\n",
       "      <td>3</td>\n",
       "      <td>No</td>\n",
       "      <td>Yes, An electrician</td>\n",
       "    </tr>\n",
       "    <tr>\n",
       "      <th>8</th>\n",
       "      <td>The table in the common room is wobbly and ne...</td>\n",
       "      <td>2</td>\n",
       "      <td>Yes</td>\n",
       "      <td>Yes, A carpenter</td>\n",
       "    </tr>\n",
       "    <tr>\n",
       "      <th>9</th>\n",
       "      <td>The clothes hanger hook in room number 409 is ...</td>\n",
       "      <td>2</td>\n",
       "      <td>Yes</td>\n",
       "      <td>Yes, A carpenter</td>\n",
       "    </tr>\n",
       "  </tbody>\n",
       "</table>\n",
       "</div>"
      ],
      "text/plain": [
       "                                           complaint  priority parts  \\\n",
       "0  Mirror is broken in the second floor east side...         1   Yes   \n",
       "1                              Light is not working          4   Yes   \n",
       "2                 Leaky pipes under sinks on floor 5         3   Yes   \n",
       "3            wall hook for clothes needs to be fixed         2    No   \n",
       "4  WiFi drops out frequently, disrupting online work         3    No   \n",
       "5        AC is not working in common room 2, GarnetB         3    No   \n",
       "6  Wifi occasionally stops working completely in ...         3    No   \n",
       "7           Water cooler is not working in 1st floor         3    No   \n",
       "8   The table in the common room is wobbly and ne...         2   Yes   \n",
       "9  The clothes hanger hook in room number 409 is ...         2   Yes   \n",
       "\n",
       "            repair_person  \n",
       "0                  Others  \n",
       "1     Yes, An electrician  \n",
       "2          Yes, A plumber  \n",
       "3        Yes, A carpenter  \n",
       "4  Yes, A wifi Technician  \n",
       "5     Yes, An electrician  \n",
       "6  Yes, A wifi Technician  \n",
       "7     Yes, An electrician  \n",
       "8        Yes, A carpenter  \n",
       "9        Yes, A carpenter  "
      ]
     },
     "execution_count": 21,
     "metadata": {},
     "output_type": "execute_result"
    }
   ],
   "source": [
    "df0.head(10)"
   ]
  },
  {
   "cell_type": "code",
   "execution_count": 15,
   "id": "64a94bab-cd13-4c84-ac0b-6f208e81502c",
   "metadata": {},
   "outputs": [
    {
     "name": "stdout",
     "output_type": "stream",
     "text": [
      "<class 'pandas.core.frame.DataFrame'>\n",
      "RangeIndex: 661 entries, 0 to 660\n",
      "Data columns (total 1 columns):\n",
      " #   Column     Non-Null Count  Dtype \n",
      "---  ------     --------------  ----- \n",
      " 0   complaint  661 non-null    object\n",
      "dtypes: object(1)\n",
      "memory usage: 5.3+ KB\n"
     ]
    }
   ],
   "source": [
    "input_raw_chat = pd.read_csv('C:/Users/Dinesh/Git_Hub/HostelFix-AI/data/raw_text_input.csv')\n",
    "input1 = pd.DataFrame(input_raw_chat)\n",
    "df = input1\n",
    "df.info()"
   ]
  },
  {
   "cell_type": "code",
   "execution_count": 20,
   "id": "9dfc3c85-3aab-411a-bae2-d03bc406c0ac",
   "metadata": {},
   "outputs": [
    {
     "data": {
      "text/html": [
       "<div>\n",
       "<style scoped>\n",
       "    .dataframe tbody tr th:only-of-type {\n",
       "        vertical-align: middle;\n",
       "    }\n",
       "\n",
       "    .dataframe tbody tr th {\n",
       "        vertical-align: top;\n",
       "    }\n",
       "\n",
       "    .dataframe thead th {\n",
       "        text-align: right;\n",
       "    }\n",
       "</style>\n",
       "<table border=\"1\" class=\"dataframe\">\n",
       "  <thead>\n",
       "    <tr style=\"text-align: right;\">\n",
       "      <th></th>\n",
       "      <th>complaint</th>\n",
       "    </tr>\n",
       "  </thead>\n",
       "  <tbody>\n",
       "    <tr>\n",
       "      <th>0</th>\n",
       "      <td>29/08/24, 5:37 pm - +91 85907 34302: @91962968...</td>\n",
       "    </tr>\n",
       "    <tr>\n",
       "      <th>1</th>\n",
       "      <td>29/08/24, 5:47 pm - +91 89544 46533: @91962968...</td>\n",
       "    </tr>\n",
       "    <tr>\n",
       "      <th>2</th>\n",
       "      <td>29/08/24, 6:14 pm - +91 94951 11941: They alre...</td>\n",
       "    </tr>\n",
       "    <tr>\n",
       "      <th>3</th>\n",
       "      <td>29/08/24, 6:17 pm - +91 70911 94066: @91962968...</td>\n",
       "    </tr>\n",
       "    <tr>\n",
       "      <th>4</th>\n",
       "      <td>29/08/24, 8:40 pm - +91 62644 98745: Please do...</td>\n",
       "    </tr>\n",
       "    <tr>\n",
       "      <th>5</th>\n",
       "      <td>30/08/24, 9:30 pm - +91 72501 36858: All are f...</td>\n",
       "    </tr>\n",
       "    <tr>\n",
       "      <th>6</th>\n",
       "      <td>31/08/24, 9:36 am - +91 97893 20825: @91962968...</td>\n",
       "    </tr>\n",
       "    <tr>\n",
       "      <th>7</th>\n",
       "      <td>31/08/24, 10:03 am - +91 70911 94066: @9196296...</td>\n",
       "    </tr>\n",
       "    <tr>\n",
       "      <th>8</th>\n",
       "      <td>31/08/24, 10:14 am - +91 86373 37272: @9196296...</td>\n",
       "    </tr>\n",
       "    <tr>\n",
       "      <th>9</th>\n",
       "      <td>31/08/24, 11:01 am - Thumma Dinesh: I think we...</td>\n",
       "    </tr>\n",
       "  </tbody>\n",
       "</table>\n",
       "</div>"
      ],
      "text/plain": [
       "                                           complaint\n",
       "0  29/08/24, 5:37 pm - +91 85907 34302: @91962968...\n",
       "1  29/08/24, 5:47 pm - +91 89544 46533: @91962968...\n",
       "2  29/08/24, 6:14 pm - +91 94951 11941: They alre...\n",
       "3  29/08/24, 6:17 pm - +91 70911 94066: @91962968...\n",
       "4  29/08/24, 8:40 pm - +91 62644 98745: Please do...\n",
       "5  30/08/24, 9:30 pm - +91 72501 36858: All are f...\n",
       "6  31/08/24, 9:36 am - +91 97893 20825: @91962968...\n",
       "7  31/08/24, 10:03 am - +91 70911 94066: @9196296...\n",
       "8  31/08/24, 10:14 am - +91 86373 37272: @9196296...\n",
       "9  31/08/24, 11:01 am - Thumma Dinesh: I think we..."
      ]
     },
     "execution_count": 20,
     "metadata": {},
     "output_type": "execute_result"
    }
   ],
   "source": [
    "df.head(10)"
   ]
  },
  {
   "cell_type": "markdown",
   "id": "a36efb09-a31f-4526-9e68-2834b474c0ae",
   "metadata": {},
   "source": [
    "# Regular Expressions\n",
    "### Sample Date & time formats are : 12/03/2025, 9:45 am -\n",
    "### Sample Phone numbers formats are : +91 98765 43210 or 9876543210\n",
    "### And for the Sender names (optional) : Anything before the colon is treated as the sender name"
   ]
  },
  {
   "cell_type": "code",
   "execution_count": 22,
   "id": "8223185f-f279-4d6d-8cb2-a70966628d38",
   "metadata": {},
   "outputs": [],
   "source": [
    "# pattern for date & time formats\n",
    "pattern_date_time = re.compile(\n",
    "    r\"^(?:\\d{1,2}[/-]\\d{1,2}[/-]\\d{2,4},?\\s*\\d{1,2}:\\d{2}(?:\\s*[APMapm]{2})?\\s*-\\s*)?\"\n",
    ")"
   ]
  },
  {
   "cell_type": "code",
   "execution_count": 23,
   "id": "98c4fb1c-f681-484e-a3de-a6d6e023fa3f",
   "metadata": {},
   "outputs": [
    {
     "data": {
      "text/html": [
       "<div>\n",
       "<style scoped>\n",
       "    .dataframe tbody tr th:only-of-type {\n",
       "        vertical-align: middle;\n",
       "    }\n",
       "\n",
       "    .dataframe tbody tr th {\n",
       "        vertical-align: top;\n",
       "    }\n",
       "\n",
       "    .dataframe thead th {\n",
       "        text-align: right;\n",
       "    }\n",
       "</style>\n",
       "<table border=\"1\" class=\"dataframe\">\n",
       "  <thead>\n",
       "    <tr style=\"text-align: right;\">\n",
       "      <th></th>\n",
       "      <th>complaint</th>\n",
       "    </tr>\n",
       "  </thead>\n",
       "  <tbody>\n",
       "    <tr>\n",
       "      <th>0</th>\n",
       "      <td>+91 85907 34302: @919629686866 no water in bat...</td>\n",
       "    </tr>\n",
       "    <tr>\n",
       "      <th>1</th>\n",
       "      <td>+91 89544 46533: @919629686866 no water in 3rd...</td>\n",
       "    </tr>\n",
       "    <tr>\n",
       "      <th>2</th>\n",
       "      <td>+91 94951 11941: They already notified about s...</td>\n",
       "    </tr>\n",
       "    <tr>\n",
       "      <th>3</th>\n",
       "      <td>+91 70911 94066: @919629686866  no water in ba...</td>\n",
       "    </tr>\n",
       "    <tr>\n",
       "      <th>4</th>\n",
       "      <td>+91 62644 98745: Please do something about the...</td>\n",
       "    </tr>\n",
       "    <tr>\n",
       "      <th>5</th>\n",
       "      <td>+91 72501 36858: All are facing same issue.</td>\n",
       "    </tr>\n",
       "    <tr>\n",
       "      <th>6</th>\n",
       "      <td>+91 97893 20825: @919629686866 sir, Normal wat...</td>\n",
       "    </tr>\n",
       "    <tr>\n",
       "      <th>7</th>\n",
       "      <td>+91 70911 94066: @919629686866 sir foot light ...</td>\n",
       "    </tr>\n",
       "    <tr>\n",
       "      <th>8</th>\n",
       "      <td>+91 86373 37272: @919629686866 sir will the pe...</td>\n",
       "    </tr>\n",
       "    <tr>\n",
       "      <th>9</th>\n",
       "      <td>Thumma Dinesh: I think we need to wait till to...</td>\n",
       "    </tr>\n",
       "  </tbody>\n",
       "</table>\n",
       "</div>"
      ],
      "text/plain": [
       "                                           complaint\n",
       "0  +91 85907 34302: @919629686866 no water in bat...\n",
       "1  +91 89544 46533: @919629686866 no water in 3rd...\n",
       "2  +91 94951 11941: They already notified about s...\n",
       "3  +91 70911 94066: @919629686866  no water in ba...\n",
       "4  +91 62644 98745: Please do something about the...\n",
       "5        +91 72501 36858: All are facing same issue.\n",
       "6  +91 97893 20825: @919629686866 sir, Normal wat...\n",
       "7  +91 70911 94066: @919629686866 sir foot light ...\n",
       "8  +91 86373 37272: @919629686866 sir will the pe...\n",
       "9  Thumma Dinesh: I think we need to wait till to..."
      ]
     },
     "execution_count": 23,
     "metadata": {},
     "output_type": "execute_result"
    }
   ],
   "source": [
    "# Applied reg exp to remove date & timestamp from messages\n",
    "df[\"complaint\"] = df[\"complaint\"].apply(lambda x: re.sub(pattern_date_time, \"\", str(x)).strip())\n",
    "df.head(10)"
   ]
  },
  {
   "cell_type": "code",
   "execution_count": 24,
   "id": "cc946dcd-c15e-4219-939e-746a36008aa9",
   "metadata": {},
   "outputs": [],
   "source": [
    "# pattern for phone number or name followed by colon\n",
    "pattern_phone_number = re.compile(\n",
    "    r\"(?:\\+?\\d{1,4}[\\s-]?\\d{5}[\\s-]?\\d{5}|[^:]+)?:\\s*\"\n",
    ")"
   ]
  },
  {
   "cell_type": "code",
   "execution_count": 25,
   "id": "4a76d93c-faca-4afe-b598-bc37d165f58b",
   "metadata": {},
   "outputs": [
    {
     "data": {
      "text/html": [
       "<div>\n",
       "<style scoped>\n",
       "    .dataframe tbody tr th:only-of-type {\n",
       "        vertical-align: middle;\n",
       "    }\n",
       "\n",
       "    .dataframe tbody tr th {\n",
       "        vertical-align: top;\n",
       "    }\n",
       "\n",
       "    .dataframe thead th {\n",
       "        text-align: right;\n",
       "    }\n",
       "</style>\n",
       "<table border=\"1\" class=\"dataframe\">\n",
       "  <thead>\n",
       "    <tr style=\"text-align: right;\">\n",
       "      <th></th>\n",
       "      <th>complaint</th>\n",
       "    </tr>\n",
       "  </thead>\n",
       "  <tbody>\n",
       "    <tr>\n",
       "      <th>0</th>\n",
       "      <td>@919629686866 no water in bathroom 1st floor</td>\n",
       "    </tr>\n",
       "    <tr>\n",
       "      <th>1</th>\n",
       "      <td>@919629686866 no water in 3rd floor</td>\n",
       "    </tr>\n",
       "    <tr>\n",
       "      <th>2</th>\n",
       "      <td>They already notified about some problem with ...</td>\n",
       "    </tr>\n",
       "    <tr>\n",
       "      <th>3</th>\n",
       "      <td>@919629686866  no water in bathroom on 3rd floor</td>\n",
       "    </tr>\n",
       "    <tr>\n",
       "      <th>4</th>\n",
       "      <td>Please do something about the water problem</td>\n",
       "    </tr>\n",
       "    <tr>\n",
       "      <th>5</th>\n",
       "      <td>All are facing same issue.</td>\n",
       "    </tr>\n",
       "    <tr>\n",
       "      <th>6</th>\n",
       "      <td>@919629686866 sir, Normal water not coming for...</td>\n",
       "    </tr>\n",
       "    <tr>\n",
       "      <th>7</th>\n",
       "      <td>@919629686866 sir foot light is not working in...</td>\n",
       "    </tr>\n",
       "    <tr>\n",
       "      <th>8</th>\n",
       "      <td>@919629686866 sir will the people who don’t wa...</td>\n",
       "    </tr>\n",
       "    <tr>\n",
       "      <th>9</th>\n",
       "      <td>30 pm, may be after deadline they will generat...</td>\n",
       "    </tr>\n",
       "  </tbody>\n",
       "</table>\n",
       "</div>"
      ],
      "text/plain": [
       "                                           complaint\n",
       "0       @919629686866 no water in bathroom 1st floor\n",
       "1                @919629686866 no water in 3rd floor\n",
       "2  They already notified about some problem with ...\n",
       "3   @919629686866  no water in bathroom on 3rd floor\n",
       "4        Please do something about the water problem\n",
       "5                         All are facing same issue.\n",
       "6  @919629686866 sir, Normal water not coming for...\n",
       "7  @919629686866 sir foot light is not working in...\n",
       "8  @919629686866 sir will the people who don’t wa...\n",
       "9  30 pm, may be after deadline they will generat..."
      ]
     },
     "execution_count": 25,
     "metadata": {},
     "output_type": "execute_result"
    }
   ],
   "source": [
    "# Applied reg exp to remove phone numbers from messages\n",
    "df[\"complaint\"] = df[\"complaint\"].apply(lambda x: re.sub(pattern_phone_number, \"\", str(x)).strip())\n",
    "df.head(10)"
   ]
  },
  {
   "cell_type": "code",
   "execution_count": 26,
   "id": "cedfca76-f12d-476e-8cb4-9f0a0dde560c",
   "metadata": {},
   "outputs": [
    {
     "data": {
      "text/html": [
       "<div>\n",
       "<style scoped>\n",
       "    .dataframe tbody tr th:only-of-type {\n",
       "        vertical-align: middle;\n",
       "    }\n",
       "\n",
       "    .dataframe tbody tr th {\n",
       "        vertical-align: top;\n",
       "    }\n",
       "\n",
       "    .dataframe thead th {\n",
       "        text-align: right;\n",
       "    }\n",
       "</style>\n",
       "<table border=\"1\" class=\"dataframe\">\n",
       "  <thead>\n",
       "    <tr style=\"text-align: right;\">\n",
       "      <th></th>\n",
       "      <th>complaint</th>\n",
       "    </tr>\n",
       "  </thead>\n",
       "  <tbody>\n",
       "    <tr>\n",
       "      <th>0</th>\n",
       "      <td>no water in bathroom 1st floor</td>\n",
       "    </tr>\n",
       "    <tr>\n",
       "      <th>1</th>\n",
       "      <td>no water in 3rd floor</td>\n",
       "    </tr>\n",
       "    <tr>\n",
       "      <th>2</th>\n",
       "      <td>They already notified about some problem with ...</td>\n",
       "    </tr>\n",
       "    <tr>\n",
       "      <th>3</th>\n",
       "      <td>no water in bathroom on 3rd floor</td>\n",
       "    </tr>\n",
       "    <tr>\n",
       "      <th>4</th>\n",
       "      <td>Please do something about the water problem</td>\n",
       "    </tr>\n",
       "    <tr>\n",
       "      <th>5</th>\n",
       "      <td>All are facing same issue.</td>\n",
       "    </tr>\n",
       "    <tr>\n",
       "      <th>6</th>\n",
       "      <td>sir, Normal water not coming for 2 days in 1st...</td>\n",
       "    </tr>\n",
       "    <tr>\n",
       "      <th>7</th>\n",
       "      <td>sir foot light is not working in room no-249. ...</td>\n",
       "    </tr>\n",
       "    <tr>\n",
       "      <th>8</th>\n",
       "      <td>sir will the people who don’t want to change t...</td>\n",
       "    </tr>\n",
       "    <tr>\n",
       "      <th>9</th>\n",
       "      <td>30 pm, may be after deadline they will generat...</td>\n",
       "    </tr>\n",
       "  </tbody>\n",
       "</table>\n",
       "</div>"
      ],
      "text/plain": [
       "                                           complaint\n",
       "0                     no water in bathroom 1st floor\n",
       "1                              no water in 3rd floor\n",
       "2  They already notified about some problem with ...\n",
       "3                  no water in bathroom on 3rd floor\n",
       "4        Please do something about the water problem\n",
       "5                         All are facing same issue.\n",
       "6  sir, Normal water not coming for 2 days in 1st...\n",
       "7  sir foot light is not working in room no-249. ...\n",
       "8  sir will the people who don’t want to change t...\n",
       "9  30 pm, may be after deadline they will generat..."
      ]
     },
     "execution_count": 26,
     "metadata": {},
     "output_type": "execute_result"
    }
   ],
   "source": [
    "df[\"complaint\"] = df[\"complaint\"].apply(lambda x: re.sub(r\"@\\d+\", \"\", x).strip())\n",
    "df.head(10)"
   ]
  },
  {
   "cell_type": "code",
   "execution_count": 27,
   "id": "c86de5a7-6f16-4b2f-9be0-8cde1abcbcdc",
   "metadata": {},
   "outputs": [
    {
     "name": "stdout",
     "output_type": "stream",
     "text": [
      "<class 'pandas.core.frame.DataFrame'>\n",
      "RangeIndex: 562 entries, 0 to 561\n",
      "Data columns (total 4 columns):\n",
      " #   Column         Non-Null Count  Dtype \n",
      "---  ------         --------------  ----- \n",
      " 0   complaint      562 non-null    object\n",
      " 1   priority       562 non-null    int64 \n",
      " 2   parts          562 non-null    object\n",
      " 3   repair_person  562 non-null    object\n",
      "dtypes: int64(1), object(3)\n",
      "memory usage: 17.7+ KB\n"
     ]
    }
   ],
   "source": [
    "df = df0\n",
    "df.info()"
   ]
  },
  {
   "cell_type": "code",
   "execution_count": 31,
   "id": "69ac53c0-774d-4b1d-9b58-cfdb0dc2e82d",
   "metadata": {},
   "outputs": [
    {
     "name": "stdout",
     "output_type": "stream",
     "text": [
      "Index(['complaint', 'priority', 'parts', 'repair_person'], dtype='object')\n"
     ]
    },
    {
     "data": {
      "text/html": [
       "<div>\n",
       "<style scoped>\n",
       "    .dataframe tbody tr th:only-of-type {\n",
       "        vertical-align: middle;\n",
       "    }\n",
       "\n",
       "    .dataframe tbody tr th {\n",
       "        vertical-align: top;\n",
       "    }\n",
       "\n",
       "    .dataframe thead th {\n",
       "        text-align: right;\n",
       "    }\n",
       "</style>\n",
       "<table border=\"1\" class=\"dataframe\">\n",
       "  <thead>\n",
       "    <tr style=\"text-align: right;\">\n",
       "      <th></th>\n",
       "      <th>complaint</th>\n",
       "      <th>priority</th>\n",
       "      <th>parts</th>\n",
       "      <th>repair_person</th>\n",
       "    </tr>\n",
       "  </thead>\n",
       "  <tbody>\n",
       "    <tr>\n",
       "      <th>0</th>\n",
       "      <td>Mirror is broken in the second floor east side...</td>\n",
       "      <td>1</td>\n",
       "      <td>Yes</td>\n",
       "      <td>Others</td>\n",
       "    </tr>\n",
       "    <tr>\n",
       "      <th>1</th>\n",
       "      <td>Light is not working</td>\n",
       "      <td>4</td>\n",
       "      <td>Yes</td>\n",
       "      <td>Yes, An electrician</td>\n",
       "    </tr>\n",
       "    <tr>\n",
       "      <th>2</th>\n",
       "      <td>Leaky pipes under sinks on floor 5</td>\n",
       "      <td>3</td>\n",
       "      <td>Yes</td>\n",
       "      <td>Yes, A plumber</td>\n",
       "    </tr>\n",
       "    <tr>\n",
       "      <th>3</th>\n",
       "      <td>wall hook for clothes needs to be fixed</td>\n",
       "      <td>2</td>\n",
       "      <td>No</td>\n",
       "      <td>Yes, A carpenter</td>\n",
       "    </tr>\n",
       "    <tr>\n",
       "      <th>4</th>\n",
       "      <td>WiFi drops out frequently, disrupting online work</td>\n",
       "      <td>3</td>\n",
       "      <td>No</td>\n",
       "      <td>Yes, A wifi Technician</td>\n",
       "    </tr>\n",
       "    <tr>\n",
       "      <th>5</th>\n",
       "      <td>AC is not working in common room 2, GarnetB</td>\n",
       "      <td>3</td>\n",
       "      <td>No</td>\n",
       "      <td>Yes, An electrician</td>\n",
       "    </tr>\n",
       "    <tr>\n",
       "      <th>6</th>\n",
       "      <td>Wifi occasionally stops working completely in ...</td>\n",
       "      <td>3</td>\n",
       "      <td>No</td>\n",
       "      <td>Yes, A wifi Technician</td>\n",
       "    </tr>\n",
       "    <tr>\n",
       "      <th>7</th>\n",
       "      <td>Water cooler is not working in 1st floor</td>\n",
       "      <td>3</td>\n",
       "      <td>No</td>\n",
       "      <td>Yes, An electrician</td>\n",
       "    </tr>\n",
       "    <tr>\n",
       "      <th>8</th>\n",
       "      <td>The table in the common room is wobbly and ne...</td>\n",
       "      <td>2</td>\n",
       "      <td>Yes</td>\n",
       "      <td>Yes, A carpenter</td>\n",
       "    </tr>\n",
       "    <tr>\n",
       "      <th>9</th>\n",
       "      <td>The clothes hanger hook in room number 409 is ...</td>\n",
       "      <td>2</td>\n",
       "      <td>Yes</td>\n",
       "      <td>Yes, A carpenter</td>\n",
       "    </tr>\n",
       "    <tr>\n",
       "      <th>10</th>\n",
       "      <td>The ceiling fan in Room 101 is making buzzing ...</td>\n",
       "      <td>3</td>\n",
       "      <td>Yes</td>\n",
       "      <td>Yes, An electrician</td>\n",
       "    </tr>\n",
       "    <tr>\n",
       "      <th>11</th>\n",
       "      <td>Chair is broken in my room</td>\n",
       "      <td>2</td>\n",
       "      <td>Yes</td>\n",
       "      <td>Others</td>\n",
       "    </tr>\n",
       "    <tr>\n",
       "      <th>12</th>\n",
       "      <td>The wardrobe door in Room 308 is falling off.</td>\n",
       "      <td>2</td>\n",
       "      <td>Yes</td>\n",
       "      <td>Yes, A carpenter</td>\n",
       "    </tr>\n",
       "    <tr>\n",
       "      <th>13</th>\n",
       "      <td>the curtain holder is broken in my room no 118</td>\n",
       "      <td>1</td>\n",
       "      <td>Yes</td>\n",
       "      <td>Others</td>\n",
       "    </tr>\n",
       "    <tr>\n",
       "      <th>14</th>\n",
       "      <td>The food quality is worst. There is a lots of ...</td>\n",
       "      <td>1</td>\n",
       "      <td>No</td>\n",
       "      <td>No need</td>\n",
       "    </tr>\n",
       "  </tbody>\n",
       "</table>\n",
       "</div>"
      ],
      "text/plain": [
       "                                            complaint  priority parts  \\\n",
       "0   Mirror is broken in the second floor east side...         1   Yes   \n",
       "1                               Light is not working          4   Yes   \n",
       "2                  Leaky pipes under sinks on floor 5         3   Yes   \n",
       "3             wall hook for clothes needs to be fixed         2    No   \n",
       "4   WiFi drops out frequently, disrupting online work         3    No   \n",
       "5         AC is not working in common room 2, GarnetB         3    No   \n",
       "6   Wifi occasionally stops working completely in ...         3    No   \n",
       "7            Water cooler is not working in 1st floor         3    No   \n",
       "8    The table in the common room is wobbly and ne...         2   Yes   \n",
       "9   The clothes hanger hook in room number 409 is ...         2   Yes   \n",
       "10  The ceiling fan in Room 101 is making buzzing ...         3   Yes   \n",
       "11                        Chair is broken in my room          2   Yes   \n",
       "12      The wardrobe door in Room 308 is falling off.         2   Yes   \n",
       "13    the curtain holder is broken in my room no 118          1   Yes   \n",
       "14  The food quality is worst. There is a lots of ...         1    No   \n",
       "\n",
       "             repair_person  \n",
       "0                   Others  \n",
       "1      Yes, An electrician  \n",
       "2           Yes, A plumber  \n",
       "3         Yes, A carpenter  \n",
       "4   Yes, A wifi Technician  \n",
       "5      Yes, An electrician  \n",
       "6   Yes, A wifi Technician  \n",
       "7      Yes, An electrician  \n",
       "8         Yes, A carpenter  \n",
       "9         Yes, A carpenter  \n",
       "10     Yes, An electrician  \n",
       "11                  Others  \n",
       "12        Yes, A carpenter  \n",
       "13                  Others  \n",
       "14                 No need  "
      ]
     },
     "execution_count": 31,
     "metadata": {},
     "output_type": "execute_result"
    }
   ],
   "source": [
    "print(df.columns)\n",
    "df.head(15)"
   ]
  },
  {
   "cell_type": "markdown",
   "id": "a1de5f72-918c-4615-b7b5-b162f2df5bdd",
   "metadata": {},
   "source": [
    "## Data Distribution"
   ]
  },
  {
   "cell_type": "code",
   "execution_count": 49,
   "id": "47d80a23-7eb2-4244-9706-8c959ac2402a",
   "metadata": {},
   "outputs": [
    {
     "data": {
      "image/png": "[encoded data removed]",
      "text/plain": [
       "<Figure size 800x500 with 1 Axes>"
      ]
     },
     "metadata": {},
     "output_type": "display_data"
    }
   ],
   "source": [
    "priority_counts = df['priority'].value_counts().sort_index()\n",
    "\n",
    "colors = ['#1DCD9F','#3D90D7','#FFD63A','#FA812F','#E83F25']\n",
    "\n",
    "plt.figure(figsize=(8, 5))\n",
    "bars = plt.bar(priority_counts.index, priority_counts.values, color=colors, width=0.6)\n",
    "\n",
    "for bar in bars:\n",
    "    yval = bar.get_height()\n",
    "    plt.text(bar.get_x() + bar.get_width()/2.0, yval - 15, int(yval), ha='center', va='bottom', fontsize=12)\n",
    "\n",
    "plt.xlabel('Priority Levels', fontsize=15)\n",
    "plt.ylabel('No. of Complaints', fontsize=14)\n",
    "plt.title('Count of Each Priority Level', fontsize=14)\n",
    "plt.xticks(priority_counts.index, fontsize=12)\n",
    "plt.yticks(fontsize=12)\n",
    "\n",
    "plt.tight_layout()\n",
    "plt.show()"
   ]
  },
  {
   "cell_type": "code",
   "execution_count": null,
   "id": "7d81f45e-6e53-4ac8-ac59-667886e446cc",
   "metadata": {},
   "outputs": [],
   "source": []
  },
  {
   "cell_type": "code",
   "execution_count": null,
   "id": "82b19d8c-287c-49df-bcdf-9a4143325fe2",
   "metadata": {},
   "outputs": [],
   "source": []
  },
  {
   "cell_type": "code",
   "execution_count": null,
   "id": "17e60aa8-52a6-46c4-ae4b-965adcae5e40",
   "metadata": {},
   "outputs": [],
   "source": []
  },
  {
   "cell_type": "code",
   "execution_count": null,
   "id": "51897151-d08c-4ca3-960c-308f254d4db2",
   "metadata": {},
   "outputs": [],
   "source": []
  },
  {
   "cell_type": "code",
   "execution_count": 55,
   "id": "291c7ae9-da26-4508-a69b-21e19583c361",
   "metadata": {},
   "outputs": [],
   "source": []
  },
  {
   "cell_type": "code",
   "execution_count": 56,
   "id": "32c38949-ce0c-4357-8513-821bec465e9a",
   "metadata": {},
   "outputs": [],
   "source": []
  },
  {
   "cell_type": "code",
   "execution_count": 92,
   "id": "121ac40a-67a3-4370-b3eb-6c3447c0980e",
   "metadata": {},
   "outputs": [
    {
     "name": "stderr",
     "output_type": "stream",
     "text": [
      "\n",
      "00%|██████████████████████████████████████████████████████████████████████████████████| 36/36 [00:05<00:00,  7.02it/s]"
     ]
    }
   ],
   "source": []
  },
  {
   "cell_type": "code",
   "execution_count": 93,
   "id": "8ad10e75-bd65-4b1d-85b2-de548952bad8",
   "metadata": {},
   "outputs": [
    {
     "name": "stdout",
     "output_type": "stream",
     "text": [
      "\n",
      "=== DistilBERT Results ===\n",
      "Accuracy: 0.7876106194690266\n",
      "                        precision    recall  f1-score   support\n",
      "\n",
      "               No need       0.00      0.00      0.00         3\n",
      "                Others       0.61      0.73      0.67        15\n",
      "      Yes, A carpenter       0.67      0.50      0.57         8\n",
      "        Yes, A plumber       0.86      0.77      0.81        31\n",
      "Yes, A wifi Technician       0.86      0.92      0.89        13\n",
      "   Yes, An electrician       0.81      0.88      0.84        43\n",
      "\n",
      "              accuracy                           0.79       113\n",
      "             macro avg       0.63      0.64      0.63       113\n",
      "          weighted avg       0.77      0.79      0.78       113\n",
      "\n"
     ]
    }
   ],
   "source": []
  },
  {
   "cell_type": "code",
   "execution_count": null,
   "id": "e664cbc5-0c73-4be7-b8e0-e9136f319e3d",
   "metadata": {},
   "outputs": [],
   "source": []
  }
 ],
 "metadata": {
  "kernelspec": {
   "display_name": "Python 3 (ipykernel)",
   "language": "python",
   "name": "python3"
  },
  "language_info": {
   "codemirror_mode": {
    "name": "ipython",
    "version": 3
   },
   "file_extension": ".py",
   "mimetype": "text/x-python",
   "name": "python",
   "nbconvert_exporter": "python",
   "pygments_lexer": "ipython3",
   "version": "3.13.2"
  }
 },
 "nbformat": 4,
 "nbformat_minor": 5
}
