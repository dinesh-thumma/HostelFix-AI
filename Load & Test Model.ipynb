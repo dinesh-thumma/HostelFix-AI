{
 "cells": [
  {
   "cell_type": "code",
   "execution_count": 5,
   "id": "86c419f1-9474-4fb5-8db2-f78d373bc43e",
   "metadata": {},
   "outputs": [],
   "source": [
    "import torch\n",
    "from transformers import DistilBertForSequenceClassification, DistilBertTokenizerFast"
   ]
  },
  {
   "cell_type": "code",
   "execution_count": 6,
   "id": "41f8b1af-51a7-4183-be6a-b6640efe27a7",
   "metadata": {},
   "outputs": [],
   "source": [
    "model = DistilBertForSequenceClassification.from_pretrained(\"./priority_distilbert_model\")\n",
    "tokenizer = DistilBertTokenizerFast.from_pretrained(\"./priority_distilbert_tokenizer\")"
   ]
  },
  {
   "cell_type": "code",
   "execution_count": 7,
   "id": "7c9279c4-9755-42f9-8279-98594ccfe993",
   "metadata": {},
   "outputs": [],
   "source": [
    "def predict_priority(text, model, tokenizer, label_shift=1):\n",
    "    model.eval()\n",
    "    device = model.device  \n",
    "\n",
    "    inputs = tokenizer(text, return_tensors=\"pt\", truncation=True, padding=True, max_length=128)\n",
    "    inputs = {key: val.to(device) for key, val in inputs.items()}  # Move inputs to same device\n",
    "\n",
    "    with torch.no_grad():\n",
    "        outputs = model(**inputs)\n",
    "        logits = outputs.logits\n",
    "        predicted_class = torch.argmax(logits, dim=1).item()\n",
    "\n",
    "    return predicted_class + label_shift"
   ]
  },
  {
   "cell_type": "code",
   "execution_count": 8,
   "id": "c408b907-29c0-482c-8a16-6d2a5e6b927c",
   "metadata": {},
   "outputs": [
    {
     "name": "stdin",
     "output_type": "stream",
     "text": [
      "Enter your hostel complaint:  my room's tubelight is not working properly needs replacement\n"
     ]
    },
    {
     "name": "stdout",
     "output_type": "stream",
     "text": [
      "Predicted Priority: 4\n"
     ]
    }
   ],
   "source": [
    "custom_complaint = input(\"Enter your hostel complaint: \")\n",
    "predicted = predict_priority(custom_complaint, model, tokenizer)\n",
    "print(f\"Predicted Priority: {predicted}\")"
   ]
  },
  {
   "cell_type": "code",
   "execution_count": null,
   "id": "5f535dc4-8d76-484d-8ea6-d6c6a9617a6b",
   "metadata": {},
   "outputs": [],
   "source": []
  }
 ],
 "metadata": {
  "kernelspec": {
   "display_name": "Python 3 (ipykernel)",
   "language": "python",
   "name": "python3"
  },
  "language_info": {
   "codemirror_mode": {
    "name": "ipython",
    "version": 3
   },
   "file_extension": ".py",
   "mimetype": "text/x-python",
   "name": "python",
   "nbconvert_exporter": "python",
   "pygments_lexer": "ipython3",
   "version": "3.10.0"
  }
 },
 "nbformat": 4,
 "nbformat_minor": 5
}
